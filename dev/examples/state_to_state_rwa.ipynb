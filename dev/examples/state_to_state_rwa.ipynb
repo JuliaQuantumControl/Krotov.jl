{
 "cells": [
  {
   "cell_type": "markdown",
   "source": [
    "# Example 2: Optimization of a State-to-State Transfer in a Lambda System in the RWA"
   ],
   "metadata": {}
  },
  {
   "cell_type": "markdown",
   "source": [
    "This example is illustrates the use of complex-valued control fields. This is\n",
    "accomplished by rewriting the Hamiltonian as the sum of two independent\n",
    "controls (real and imaginary parts). We consider a 3-level system in a\n",
    "$\\Lambda$ configuration."
   ],
   "metadata": {}
  },
  {
   "outputs": [],
   "cell_type": "code",
   "source": [
    "using DrWatson\n",
    "@quickactivate \"KrotovTests\""
   ],
   "metadata": {},
   "execution_count": null
  },
  {
   "outputs": [],
   "cell_type": "code",
   "source": [
    "const σ̂_z = ComplexF64[1 0; 0 -1]\n",
    "const σ̂_x = ComplexF64[0 1; 1  0]\n",
    "\n",
    "\n",
    "\"\"\"Two-level-system Hamiltonian.\"\"\"\n",
    "function hamiltonian(Ω=1.0, E0=0.2)\n",
    "\n",
    "    Ĥ₀ = -0.5 * Ω * σ̂_z\n",
    "    Ĥ₁ = σ̂_x\n",
    "\n",
    "    return [Ĥ₀, Ĥ₁]\n",
    "\n",
    "end"
   ],
   "metadata": {},
   "execution_count": null
  },
  {
   "cell_type": "markdown",
   "source": [
    "---\n",
    "\n",
    "*This notebook was generated using [Literate.jl](https://github.com/fredrikekre/Literate.jl).*"
   ],
   "metadata": {}
  }
 ],
 "nbformat_minor": 3,
 "metadata": {
  "language_info": {
   "file_extension": ".jl",
   "mimetype": "application/julia",
   "name": "julia",
   "version": "1.7.1"
  },
  "kernelspec": {
   "name": "julia-1.7",
   "display_name": "Julia 1.7.1",
   "language": "julia"
  }
 },
 "nbformat": 4
}
