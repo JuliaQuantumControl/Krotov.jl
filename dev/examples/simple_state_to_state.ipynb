{
 "cells": [
  {
   "cell_type": "markdown",
   "source": [
    "# Optimization of a State-to-State Transfer in a Two-Level-System"
   ],
   "metadata": {}
  },
  {
   "cell_type": "markdown",
   "source": [
    "This first example illustrates the basic use of the `Krotov.jl` by solving a\n",
    "simple canonical optimization problem: the transfer of population in a two\n",
    "level system."
   ],
   "metadata": {}
  },
  {
   "outputs": [],
   "cell_type": "code",
   "source": [
    "using QuantumControlBase\n",
    "using Krotov\n",
    "using PyPlot"
   ],
   "metadata": {},
   "execution_count": 1
  },
  {
   "outputs": [
    {
     "output_type": "execute_result",
     "data": {
      "text/plain": "2×2 Matrix{ComplexF64}:\n 0.0+0.0im  1.0+0.0im\n 1.0+0.0im  0.0+0.0im"
     },
     "metadata": {},
     "execution_count": 2
    }
   ],
   "cell_type": "code",
   "source": [
    "const σ̂_z = ComplexF64[1 0; 0 -1]\n",
    "const σ̂_x = ComplexF64[0 1; 1  0]"
   ],
   "metadata": {},
   "execution_count": 2
  },
  {
   "outputs": [
    {
     "output_type": "execute_result",
     "data": {
      "text/plain": "Main.##258.hamiltonian"
     },
     "metadata": {},
     "execution_count": 3
    }
   ],
   "cell_type": "code",
   "source": [
    "\"\"\"Two-level-system Hamiltonian.\"\"\"\n",
    "function hamiltonian(Ω=1.0, E0=0.2)\n",
    "\n",
    "    Ĥ₀ = -0.5 * Ω * σ̂_z\n",
    "    Ĥ₁ = σ̂_x\n",
    "\n",
    "    ϵ(t) = E0 * flattop(t, T=5, t_rise=0.3, func=:blackman)\n",
    "\n",
    "    return [Ĥ₀, [Ĥ₁, ϵ]]\n",
    "\n",
    "end"
   ],
   "metadata": {},
   "execution_count": 3
  },
  {
   "outputs": [],
   "cell_type": "code",
   "source": [
    "H = hamiltonian();"
   ],
   "metadata": {},
   "execution_count": 4
  },
  {
   "outputs": [],
   "cell_type": "code",
   "source": [
    "tlist = collect(range(0, 5, length=500));"
   ],
   "metadata": {},
   "execution_count": 5
  },
  {
   "outputs": [],
   "cell_type": "code",
   "source": [
    "plot(tlist, H[2][2].(tlist));"
   ],
   "metadata": {},
   "execution_count": 6
  },
  {
   "cell_type": "markdown",
   "source": [
    "The control field here switches on from zero at $t=0$ to it's maximum amplitude\n",
    "0.2 within the time period 0.3 (the switch-on shape is half a [Blackman pulse](https://en.wikipedia.org/wiki/Window_function#Blackman_window)).\n",
    "It switches off again in the time period 0.3 before the\n",
    "final time $T=5$). We use a time grid with 500 time steps between 0 and $T$:"
   ],
   "metadata": {}
  },
  {
   "cell_type": "markdown",
   "source": [
    "---\n",
    "\n",
    "*This notebook was generated using [Literate.jl](https://github.com/fredrikekre/Literate.jl).*"
   ],
   "metadata": {}
  }
 ],
 "nbformat_minor": 3,
 "metadata": {
  "language_info": {
   "file_extension": ".jl",
   "mimetype": "application/julia",
   "name": "julia",
   "version": "1.6.2"
  },
  "kernelspec": {
   "name": "julia-1.6",
   "display_name": "Julia 1.6.2",
   "language": "julia"
  }
 },
 "nbformat": 4
}
