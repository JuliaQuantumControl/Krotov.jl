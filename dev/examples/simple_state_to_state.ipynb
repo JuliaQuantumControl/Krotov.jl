{
 "cells": [
  {
   "cell_type": "markdown",
   "source": [
    "# Optimization of a State-to-State Transfer in a Two-Level-System"
   ],
   "metadata": {}
  },
  {
   "cell_type": "markdown",
   "source": [
    "This first example illustrates the basic use of the `Krotov.jl` by solving a\n",
    "simple canonical optimization problem: the transfer of population in a two\n",
    "level system."
   ],
   "metadata": {}
  },
  {
   "outputs": [
    {
     "output_type": "execute_result",
     "data": {
      "text/plain": "2-element Vector{Array}:\n ComplexF64[-0.5 - 0.0im -0.0 - 0.0im; -0.0 - 0.0im 0.5 - 0.0im]\n Any[ComplexF64[0.0 + 0.0im 1.0 + 0.0im; 1.0 + 0.0im 0.0 + 0.0im], Main.##258.var\"#ϵ#1\"()]"
     },
     "metadata": {},
     "execution_count": 1
    }
   ],
   "cell_type": "code",
   "source": [
    "const σ̂_z = ComplexF64[1 0; 0 -1]\n",
    "const σ̂_x = ComplexF64[0 1; 1  0]\n",
    "\n",
    "\n",
    "\n",
    "\"\"\"Two-level-system Hamiltonian.\"\"\"\n",
    "function hamiltonian(Ω=1.0, E0=0.2)\n",
    "\n",
    "    Ĥ₀ = -0.5 * Ω * σ̂_z\n",
    "    Ĥ₁ = σ̂_x\n",
    "\n",
    "    ϵ(t) = 0\n",
    "\n",
    "    return [Ĥ₀, [Ĥ₁, ϵ]]\n",
    "\n",
    "end\n",
    "\n",
    "H = hamiltonian()"
   ],
   "metadata": {},
   "execution_count": 1
  },
  {
   "cell_type": "markdown",
   "source": [
    "The control field here switches on from zero at $t=0$ to it's maximum amplitude\n",
    "0.2 within the time period 0.3 (the switch-on shape is half a [Blackman pulse](https://en.wikipedia.org/wiki/Window_function#Blackman_window)).\n",
    "It switches off again in the time period 0.3 before the\n",
    "final time $T=5$). We use a time grid with 500 time steps between 0 and $T$:"
   ],
   "metadata": {}
  },
  {
   "cell_type": "markdown",
   "source": [
    "---\n",
    "\n",
    "*This notebook was generated using [Literate.jl](https://github.com/fredrikekre/Literate.jl).*"
   ],
   "metadata": {}
  }
 ],
 "nbformat_minor": 3,
 "metadata": {
  "language_info": {
   "file_extension": ".jl",
   "mimetype": "application/julia",
   "name": "julia",
   "version": "1.6.2"
  },
  "kernelspec": {
   "name": "julia-1.6",
   "display_name": "Julia 1.6.2",
   "language": "julia"
  }
 },
 "nbformat": 4
}
