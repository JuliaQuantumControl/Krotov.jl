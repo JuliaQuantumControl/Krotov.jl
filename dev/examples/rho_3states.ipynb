{
 "cells": [
  {
   "cell_type": "markdown",
   "source": [
    "# Example 3: Optimization of a Dissipative Quantum Gate"
   ],
   "metadata": {}
  },
  {
   "cell_type": "markdown",
   "source": [
    "$\n",
    "\\newcommand{tr}[0]{\\operatorname{tr}}\n",
    "\\newcommand{diag}[0]{\\operatorname{diag}}\n",
    "\\newcommand{abs}[0]{\\operatorname{abs}}\n",
    "\\newcommand{pop}[0]{\\operatorname{pop}}\n",
    "\\newcommand{aux}[0]{\\text{aux}}\n",
    "\\newcommand{opt}[0]{\\text{opt}}\n",
    "\\newcommand{tgt}[0]{\\text{tgt}}\n",
    "\\newcommand{init}[0]{\\text{init}}\n",
    "\\newcommand{lab}[0]{\\text{lab}}\n",
    "\\newcommand{rwa}[0]{\\text{rwa}}\n",
    "\\newcommand{bra}[1]{\\langle#1\\vert}\n",
    "\\newcommand{ket}[1]{\\vert#1\\rangle}\n",
    "\\newcommand{Bra}[1]{\\left\\langle#1\\right\\vert}\n",
    "\\newcommand{Ket}[1]{\\left\\vert#1\\right\\rangle}\n",
    "\\newcommand{Braket}[2]{\\left\\langle #1\\vphantom{#2}\\mid{#2}\\vphantom{#1}\\right\\rangle}\n",
    "\\newcommand{op}[1]{\\hat{#1}}\n",
    "\\newcommand{Op}[1]{\\hat{#1}}\n",
    "\\newcommand{dd}[0]{\\,\\text{d}}\n",
    "\\newcommand{Liouville}[0]{\\mathcal{L}}\n",
    "\\newcommand{DynMap}[0]{\\mathcal{E}}\n",
    "\\newcommand{identity}[0]{\\mathbf{1}}\n",
    "\\newcommand{Norm}[1]{\\lVert#1\\rVert}\n",
    "\\newcommand{Abs}[1]{\\left\\vert#1\\right\\vert}\n",
    "\\newcommand{avg}[1]{\\langle#1\\rangle}\n",
    "\\newcommand{Avg}[1]{\\left\\langle#1\\right\\rangle}\n",
    "\\newcommand{AbsSq}[1]{\\left\\vert#1\\right\\vert^2}\n",
    "\\newcommand{Re}[0]{\\operatorname{Re}}\n",
    "\\newcommand{Im}[0]{\\operatorname{Im}}\n",
    "$"
   ],
   "metadata": {}
  },
  {
   "cell_type": "markdown",
   "source": [
    "This example illustrates the optimization for a quantum gate in an open\n",
    "quantum system, where the dynamics is governed by the Liouville-von Neumann\n",
    "equation."
   ],
   "metadata": {}
  },
  {
   "outputs": [],
   "cell_type": "code",
   "source": [
    "using QuantumControl\n",
    "using LinearAlgebra\n",
    "using Serialization\n",
    "using SparseArrays"
   ],
   "metadata": {},
   "execution_count": null
  },
  {
   "cell_type": "markdown",
   "source": [
    "## The two-transmon system"
   ],
   "metadata": {}
  },
  {
   "cell_type": "markdown",
   "source": [
    "We will use internal units GHz and ns. Values in GHz contain an implicit\n",
    "factor $2 \\pi$, and MHz and μs are converted to GHz and ns, respectively:"
   ],
   "metadata": {}
  },
  {
   "outputs": [],
   "cell_type": "code",
   "source": [
    "const GHz = 2π;\n",
    "const MHz = 0.001GHz;\n",
    "const ns = 1.0;\n",
    "const μs = 1000ns;\n",
    "const 𝕚 = 1im;"
   ],
   "metadata": {},
   "execution_count": null
  },
  {
   "cell_type": "markdown",
   "source": [
    "This implicit factor $2 \\pi$ is because frequencies ($\\nu$) convert to\n",
    "energies as $E = h \\nu$, but our propagation routines assume a unit $\\hbar =\n",
    "1$ for energies. Thus, the factor $h / \\hbar = 2 \\pi$."
   ],
   "metadata": {}
  },
  {
   "outputs": [],
   "cell_type": "code",
   "source": [
    "function transmon_liouvillian(Ωre, Ωim;\n",
    "        N=5,             # number of qubit levels\n",
    "        ω₁=4.3796GHz,    # qubit frequency 1\n",
    "        ω₂=4.6137GHz,    # qubit frequency 2\n",
    "        ωd=4.4985GHz,    # drive frequency\n",
    "        δ₁=-239.3MHz,    # anharmonicity 1\n",
    "        δ₂=-242.8MHz,    # anharmonicity 2\n",
    "        J=-2.3MHz,       # effective qubit-qubit coupling\n",
    "        γ₁₁=(1/38.0μs),  # decay rate for qubit 1\n",
    "        γ₁₂=(1/32.0μs),  # decay rate for qubit 2\n",
    "        γ₂₁=(1/29.5μs),  # dephasing rate for qubit 1\n",
    "        γ₂₂=(1/16.0μs),  # dephasing time for qubit 2\n",
    "    )\n",
    "\n",
    "    ⊗(A, B) = kron(A, B)\n",
    "    𝟙 = SparseMatrixCSC{ComplexF64, Int64}(sparse(I, N, N))\n",
    "\n",
    "    b̂₁ = spdiagm(1 => complex.(sqrt.(collect(1:N-1)))) ⊗ 𝟙\n",
    "    b̂₂ = 𝟙 ⊗ spdiagm(1 => complex.(sqrt.(collect(1:N-1))))\n",
    "    b̂₁⁺ = sparse(b̂₁'); b̂₂⁺ = sparse(b̂₂')\n",
    "    n̂₁ = sparse(b̂₁' * b̂₁); n̂₂ = sparse(b̂₂' * b̂₂)\n",
    "    n̂₁² = sparse(n̂₁ * n̂₁); n̂₂² = sparse(n̂₂ * n̂₂)\n",
    "    b̂₁⁺_b̂₂ = sparse(b̂₁' * b̂₂); b̂₁_b̂₂⁺ = sparse(b̂₁ * b̂₂')\n",
    "\n",
    "    Ĥ₀ = sparse(\n",
    "        (ω₁ - ωd - δ₁/2) * n̂₁ + (δ₁/2) * n̂₁²\n",
    "        + (ω₂ - ωd - δ₂/2) * n̂₂ + (δ₂/2) * n̂₂²\n",
    "        + J * (b̂₁⁺_b̂₂ + b̂₁_b̂₂⁺)\n",
    "    )\n",
    "\n",
    "    Ĥ₁re = (1/2) * (b̂₁ + b̂₁⁺ + b̂₂ + b̂₂⁺)\n",
    "    Ĥ₁im = (𝕚/2) * (b̂₁⁺ - b̂₁ + b̂₂⁺ - b̂₂)\n",
    "\n",
    "    H = (Ĥ₀, (Ĥ₁re, Ωre), (Ĥ₁im, Ωim))\n",
    "\n",
    "    c_ops = [√γ₁₁ * b̂₁, √γ₁₂ * b̂₂, √γ₂₁ * n̂₁, √γ₂₂ * n̂₂]\n",
    "\n",
    "    return liouvillian(H, c_ops; convention=:TDSE)\n",
    "\n",
    "end\n",
    "\n",
    "const T = 400ns;\n",
    "\n",
    "Ωre = t -> 35MHz * QuantumControl.shapes.flattop(t; T=T, t_rise=20ns);\n",
    "Ωim = t -> 0.0;\n",
    "\n",
    "L = transmon_liouvillian(Ωre, Ωim);\n",
    "\n",
    "tlist = collect(range(0, 400ns, length=2000));"
   ],
   "metadata": {},
   "execution_count": null
  },
  {
   "cell_type": "markdown",
   "source": [
    "The guess pulse looks as follows:"
   ],
   "metadata": {}
  },
  {
   "outputs": [],
   "cell_type": "code",
   "source": [
    "using PyPlot\n",
    "matplotlib.use(\"Agg\")\n",
    "\n",
    "function plot_control(pulse::Vector, tlist)\n",
    "    fig, ax = matplotlib.pyplot.subplots(figsize=(6, 3))\n",
    "    ax.plot(tlist, pulse)\n",
    "    ax.set_xlabel(\"time\")\n",
    "    ax.set_ylabel(\"amplitude\")\n",
    "    return fig\n",
    "end\n",
    "\n",
    "plot_control(ϵ::T, tlist) where T<:Function =\n",
    "    plot_control([ϵ(t) for t in tlist], tlist)\n",
    "\n",
    "plot_control(Ωre, tlist)"
   ],
   "metadata": {},
   "execution_count": null
  },
  {
   "cell_type": "markdown",
   "source": [
    "## Optimization objectives"
   ],
   "metadata": {}
  },
  {
   "cell_type": "markdown",
   "source": [
    "Our target gate is $\\Op{O} = \\sqrt{\\text{iSWAP}}$:"
   ],
   "metadata": {}
  },
  {
   "outputs": [],
   "cell_type": "code",
   "source": [
    "SQRTISWAP = [1  0    0   0;\n",
    "             0 1/√2 𝕚/√2 0;\n",
    "             0 𝕚/√2 1/√2 0;\n",
    "             0  0    0   1];"
   ],
   "metadata": {},
   "execution_count": null
  },
  {
   "cell_type": "markdown",
   "source": [
    "The key idea explored in the paper is that a set of three density matrices is sufficient to track the optimization\n",
    "\n",
    "$$\n",
    "\\begin{align}\n",
    "\\Op{\\rho}_1\n",
    "    &= \\sum_{i=1}^{d} \\frac{2 (d-i+1)}{d (d+1)} \\ketbra{i}{i} \\\\\n",
    "\\Op{\\rho}_2\n",
    "    &= \\sum_{i,j=1}^{d} \\frac{1}{d} \\ketbra{i}{j} \\\\\n",
    "\\Op{\\rho}_3\n",
    "    &= \\sum_{i=1}^{d} \\frac{1}{d} \\ketbra{i}{i}\n",
    "\\end{align}\n",
    "$$"
   ],
   "metadata": {}
  },
  {
   "cell_type": "markdown",
   "source": [
    "In our case, $d=4$ for a two qubit-gate, and the $\\ket{i}$, $\\ket{j}$ are the canonical basis states $\\ket{00}$, $\\ket{01}$, $\\ket{10}$, $\\ket{11}$"
   ],
   "metadata": {}
  },
  {
   "outputs": [],
   "cell_type": "code",
   "source": [
    "function ket(i::Int64; N=5)\n",
    "    Ψ = zeros(ComplexF64, N)\n",
    "    Ψ[i+1] = 1\n",
    "    return Ψ\n",
    "end;\n",
    "\n",
    "ket(i::Int64, j::Int64; N=5) = kron(ket(i; N=N), ket(j; N=N));\n",
    "\n",
    "bra(args...; N=5) = adjoint(ket(args..., N=N));\n",
    "\n",
    "const basis_labels = [(0, 0), (0, 1), (1, 0), (1, 1)];\n",
    "const basis = [ket(labels...) for labels in basis_labels];\n",
    "const d = length(basis);\n",
    "\n",
    "const basis_tgt = [sum([SQRTISWAP[i,j] * basis[i] for i ∈ 1:d]) for j ∈ 1:d];\n",
    "\n",
    "\n",
    "const ρ̂₁ = sum([(2*(d-i+1)/(d*(d+1))) * basis[i] * adjoint(basis[i]) for i ∈ 1:d]);\n",
    "const ρ̂₂ = sum([(1/d) * basis[i] * adjoint(basis[j]) for i ∈ 1:d for j ∈ 1:d]);\n",
    "const ρ̂₃ = sum([(1/d) * basis[i] * adjoint(basis[i]) for i ∈ 1:d]);\n",
    "\n",
    "const ρ̂₁_tgt = sum([(2*(d-i+1)/(d*(d+1))) * basis_tgt[i] * adjoint(basis_tgt[i]) for i ∈ 1:d]);\n",
    "const ρ̂₂_tgt = sum([(1/d) * basis_tgt[i] * adjoint(basis_tgt[j]) for i ∈ 1:d for j ∈ 1:d]);\n",
    "const ρ̂₃_tgt = sum([(1/d) * basis_tgt[i] * adjoint(basis_tgt[i]) for i ∈ 1:d]);"
   ],
   "metadata": {},
   "execution_count": null
  },
  {
   "cell_type": "markdown",
   "source": [
    "The three density matrices play different roles in the optimization, and, as\n",
    "shown in the paper, convergence may improve significantly by weighing the\n",
    "states relatively to each other. For this example, we place a strong emphasis\n",
    "on the optimization $\\Op{\\rho}_1 \\rightarrow \\Op{O}^\\dagger \\Op{\\rho}_1\n",
    "\\Op{O}$, by a factor of 20. This reflects that the hardest part of the\n",
    "optimization is identifying the basis in which the gate is diagonal. We will\n",
    "be using the real-part functional ($J_{T,\\text{re}}$) to evaluate the success\n",
    "of $\\Op{\\rho}_i \\rightarrow \\Op{O}\\Op{\\rho}_i\\Op{O}^\\dagger$. Because\n",
    "$\\Op{\\rho}_1$ and $\\Op{\\rho}_3$ are mixed states, the Hilbert-Schmidt overlap\n",
    "will take values smaller than one in the optimal case. To compensate, we\n",
    "divide the weights by the purity of the respective states."
   ],
   "metadata": {}
  },
  {
   "outputs": [],
   "cell_type": "code",
   "source": [
    "weights = Float64[20, 1, 1];\n",
    "weights *= length(weights) / sum(weights); # manual normalization\n",
    "weights ./= [0.3, 1.0, 0.25]; # purities\n",
    "\n",
    "const objectives = [\n",
    "    WeightedObjective(\n",
    "        initial_state=reshape(ρ̂₁,:),\n",
    "        generator=L,\n",
    "        target_state=reshape(ρ̂₁_tgt,:),\n",
    "        weight=weights[1]\n",
    "    ),\n",
    "    WeightedObjective(\n",
    "        initial_state=reshape(ρ̂₂,:),\n",
    "        generator=L,\n",
    "        target_state=reshape(ρ̂₂_tgt,:),\n",
    "        weight=weights[2]\n",
    "    ),\n",
    "    WeightedObjective(\n",
    "        initial_state=reshape(ρ̂₃,:),\n",
    "        generator=L,\n",
    "        target_state=reshape(ρ̂₃_tgt,:),\n",
    "        weight=weights[3]\n",
    "    )\n",
    "];"
   ],
   "metadata": {},
   "execution_count": null
  },
  {
   "cell_type": "markdown",
   "source": [
    "## Dynamics under the Guess Pulse"
   ],
   "metadata": {}
  },
  {
   "outputs": [],
   "cell_type": "code",
   "source": [
    "ρ̂₀₀ = ket(0, 0) * adjoint(ket(0, 0));\n",
    "ρ̂₀₁ = ket(0, 1) * adjoint(ket(0, 1));\n",
    "ρ̂₁₀ = ket(1, 0) * adjoint(ket(1, 0));\n",
    "ρ̂₁₁ = ket(1, 1) * adjoint(ket(1, 1));\n",
    "\n",
    "function as_matrix(ρ⃗)\n",
    "    N = isqrt(length(ρ⃗))\n",
    "    return reshape(ρ⃗, N, N)\n",
    "end;\n",
    "\n",
    "pop00 = ρ⃗ -> real(tr(as_matrix(ρ⃗) * ρ̂₀₀));\n",
    "pop01 = ρ⃗ -> real(tr(as_matrix(ρ⃗) * ρ̂₀₁));\n",
    "pop10 = ρ⃗ -> real(tr(as_matrix(ρ⃗) * ρ̂₁₀));\n",
    "pop11 = ρ⃗ -> real(tr(as_matrix(ρ⃗) * ρ̂₁₁));\n",
    "\n",
    "\n",
    "rho_00_expvals = propagate_objective(\n",
    "    objectives[1], tlist; initial_state=reshape(ρ̂₀₀, :), method=:newton,\n",
    "    observables=(pop00, pop01, pop10, pop11), storage=true\n",
    ");"
   ],
   "metadata": {},
   "execution_count": null
  },
  {
   "cell_type": "markdown",
   "source": [
    "## Optimization"
   ],
   "metadata": {}
  },
  {
   "outputs": [],
   "cell_type": "code",
   "source": [
    "const problem = ControlProblem(\n",
    "    objectives=objectives,\n",
    "    prop_method=:newton,\n",
    "    use_threads=true,\n",
    "    pulse_options=IdDict(\n",
    "        Ωre  => Dict(\n",
    "            :lambda_a => 1.0,\n",
    "            :update_shape => t -> QuantumControl.shapes.flattop(t, T=T, t_rise=20ns, func=:blackman),\n",
    "        ),\n",
    "        Ωim  => Dict(\n",
    "            :lambda_a => 1.0,\n",
    "            :update_shape => t -> QuantumControl.shapes.flattop(t, T=T, t_rise=20ns, func=:blackman),\n",
    "        ),\n",
    "    ),\n",
    "    tlist=tlist,\n",
    "    iter_stop=3,\n",
    "    chi=QuantumControl.functionals.chi_re!,\n",
    "    J_T=QuantumControl.functionals.J_T_re,\n",
    "    check_convergence= res -> begin (\n",
    "            (res.J_T < 1e-3)\n",
    "            && (res.converged = true)\n",
    "            && (res.message=\"J_T < 10⁻³\")\n",
    "        ) end\n",
    ");\n",
    "\n",
    "\n",
    "opt_result = optimize(problem, method=:krotov);"
   ],
   "metadata": {},
   "execution_count": null
  },
  {
   "outputs": [],
   "cell_type": "code",
   "source": [
    "opt_result"
   ],
   "metadata": {},
   "execution_count": null
  },
  {
   "cell_type": "markdown",
   "source": [
    "## Continuation of Optimization"
   ],
   "metadata": {}
  },
  {
   "outputs": [],
   "cell_type": "code",
   "source": [
    "dumpdir = joinpath(@__DIR__, \"dump\"); mkpath(dumpdir)\n",
    "dumpfile = joinpath(dumpdir, \"rho_3states_opt_result.jls\")\n",
    "if isfile(dumpfile)\n",
    "    opt_result = deserialize(dumpfile)\n",
    "else\n",
    "    opt_result = optimize(problem, method=:krotov, continue_from=opt_result,\n",
    "                          iter_stop=3000)\n",
    "    serialize(dumpfile, opt_result)\n",
    "end"
   ],
   "metadata": {},
   "execution_count": null
  },
  {
   "cell_type": "markdown",
   "source": [
    "## Optimization result"
   ],
   "metadata": {}
  },
  {
   "cell_type": "markdown",
   "source": [
    "---\n",
    "\n",
    "*This notebook was generated using [Literate.jl](https://github.com/fredrikekre/Literate.jl).*"
   ],
   "metadata": {}
  }
 ],
 "nbformat_minor": 3,
 "metadata": {
  "language_info": {
   "file_extension": ".jl",
   "mimetype": "application/julia",
   "name": "julia",
   "version": "1.7.1"
  },
  "kernelspec": {
   "name": "julia-1.7",
   "display_name": "Julia 1.7.1",
   "language": "julia"
  }
 },
 "nbformat": 4
}
