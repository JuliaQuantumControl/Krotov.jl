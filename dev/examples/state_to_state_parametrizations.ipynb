{
 "cells": [
  {
   "cell_type": "markdown",
   "source": [
    "# Example 4: Pulse Parametrization"
   ],
   "metadata": {}
  },
  {
   "cell_type": "markdown",
   "source": [
    "$\n",
    "\\newcommand{tr}[0]{\\operatorname{tr}}\n",
    "\\newcommand{diag}[0]{\\operatorname{diag}}\n",
    "\\newcommand{abs}[0]{\\operatorname{abs}}\n",
    "\\newcommand{pop}[0]{\\operatorname{pop}}\n",
    "\\newcommand{aux}[0]{\\text{aux}}\n",
    "\\newcommand{opt}[0]{\\text{opt}}\n",
    "\\newcommand{tgt}[0]{\\text{tgt}}\n",
    "\\newcommand{init}[0]{\\text{init}}\n",
    "\\newcommand{lab}[0]{\\text{lab}}\n",
    "\\newcommand{rwa}[0]{\\text{rwa}}\n",
    "\\newcommand{bra}[1]{\\langle#1\\vert}\n",
    "\\newcommand{ket}[1]{\\vert#1\\rangle}\n",
    "\\newcommand{Bra}[1]{\\left\\langle#1\\right\\vert}\n",
    "\\newcommand{Ket}[1]{\\left\\vert#1\\right\\rangle}\n",
    "\\newcommand{Braket}[2]{\\left\\langle #1\\vphantom{#2}\\mid{#2}\\vphantom{#1}\\right\\rangle}\n",
    "\\newcommand{op}[1]{\\hat{#1}}\n",
    "\\newcommand{Op}[1]{\\hat{#1}}\n",
    "\\newcommand{dd}[0]{\\,\\text{d}}\n",
    "\\newcommand{Liouville}[0]{\\mathcal{L}}\n",
    "\\newcommand{DynMap}[0]{\\mathcal{E}}\n",
    "\\newcommand{identity}[0]{\\mathbf{1}}\n",
    "\\newcommand{Norm}[1]{\\lVert#1\\rVert}\n",
    "\\newcommand{Abs}[1]{\\left\\vert#1\\right\\vert}\n",
    "\\newcommand{avg}[1]{\\langle#1\\rangle}\n",
    "\\newcommand{Avg}[1]{\\left\\langle#1\\right\\rangle}\n",
    "\\newcommand{AbsSq}[1]{\\left\\vert#1\\right\\vert^2}\n",
    "\\newcommand{Re}[0]{\\operatorname{Re}}\n",
    "\\newcommand{Im}[0]{\\operatorname{Im}}\n",
    "$"
   ],
   "metadata": {}
  },
  {
   "cell_type": "markdown",
   "source": [
    "This example illustrates the parametrization of control pulses as a\n",
    "form of amplitude constraint."
   ],
   "metadata": {}
  },
  {
   "outputs": [],
   "cell_type": "code",
   "source": [
    "using DrWatson\n",
    "@quickactivate \"KrotovTests\""
   ],
   "metadata": {},
   "execution_count": null
  },
  {
   "outputs": [],
   "cell_type": "code",
   "source": [
    "using QuantumControl\n",
    "using QuantumControl.Shapes: flattop\n",
    "using Krotov: SquareParametrization, TanhParametrization, TanhSqParametrization, LogisticParametrization, LogisticSqParametrization\n",
    "using LinearAlgebra\n",
    "\n",
    "\n",
    "using PyPlot\n",
    "matplotlib.use(\"Agg\")"
   ],
   "metadata": {},
   "execution_count": null
  },
  {
   "cell_type": "markdown",
   "source": [
    "## Parametrizations"
   ],
   "metadata": {}
  },
  {
   "cell_type": "markdown",
   "source": [
    "## Symmetric Bounded Controls"
   ],
   "metadata": {}
  },
  {
   "outputs": [],
   "cell_type": "code",
   "source": [
    "function plot_symmetric_parametrization_comparison()\n",
    "    fig, axs = matplotlib.pyplot.subplots(figsize=(16, 3), ncols=3)\n",
    "\n",
    "    u_vals = collect(range(-3, 3, length=101))\n",
    "    ϵ_vals = collect(range(-1, 1, length=101))\n",
    "\n",
    "    ϵ_min = -1.0\n",
    "    ϵ_max = 1.0\n",
    "\n",
    "    axs[1].plot(u_vals, u_vals, \"--\", color=\"black\")\n",
    "    axs[1].plot(u_vals, TanhParametrization(ϵ_min, ϵ_max).epsilon_of_u.(u_vals), label=\"Tanh\")\n",
    "    axs[1].plot(u_vals, LogisticParametrization(ϵ_min, ϵ_max).epsilon_of_u.(u_vals), label=\"Logistic(k=1)\")\n",
    "    axs[1].plot(u_vals, LogisticParametrization(ϵ_min, ϵ_max, k=4).epsilon_of_u.(u_vals), label=\"Logistic(k=4)\")\n",
    "    axs[1].set_ylim(-1.2, 1.2)\n",
    "    axs[1].set_xlabel(\"u\")\n",
    "    axs[1].set_ylabel(\"ϵ\")\n",
    "\n",
    "    axs[2].plot(ϵ_vals, ϵ_vals, \"--\", color=\"black\")\n",
    "    axs[2].plot(ϵ_vals, TanhParametrization(ϵ_min, ϵ_max).u_of_epsilon.(ϵ_vals), label=\"Tanh\")\n",
    "    axs[2].plot(ϵ_vals, LogisticParametrization(ϵ_min, ϵ_max).u_of_epsilon.(ϵ_vals), label=\"Logistic(k=1)\")\n",
    "    axs[2].plot(ϵ_vals, LogisticParametrization(ϵ_min, ϵ_max, k=4).u_of_epsilon.(ϵ_vals), label=\"Logistic(k=4)\")\n",
    "    axs[2].set_ylim(-3, 3)\n",
    "    axs[2].set_ylabel(\"u\")\n",
    "    axs[2].set_xlabel(\"ϵ\")\n",
    "    axs[2].legend()\n",
    "\n",
    "    axs[3].plot(u_vals, [1.0 for _ in u_vals], \"--\", color=\"black\")\n",
    "    axs[3].plot(u_vals, TanhParametrization(ϵ_min, ϵ_max).de_du_derivative.(u_vals), label=\"Tanh\")\n",
    "    axs[3].plot(u_vals, LogisticParametrization(ϵ_min, ϵ_max).de_du_derivative.(u_vals), label=\"Logistic(k=1)\")\n",
    "    axs[3].plot(u_vals, LogisticParametrization(ϵ_min, ϵ_max, k=4).de_du_derivative.(u_vals), label=\"Logistic(k=4)\")\n",
    "    axs[3].set_ylim(0, 2)\n",
    "    axs[3].set_xlabel(\"u\")\n",
    "    axs[3].set_ylabel(\"∂ϵ/∂u\")\n",
    "\n",
    "    return fig\n",
    "end\n",
    "\n",
    "plot_symmetric_parametrization_comparison()"
   ],
   "metadata": {},
   "execution_count": null
  },
  {
   "cell_type": "markdown",
   "source": [
    "## Positive (Bounded) Controls"
   ],
   "metadata": {}
  },
  {
   "outputs": [],
   "cell_type": "code",
   "source": [
    "function plot_positive_parametrization_comparison()\n",
    "    fig, axs = matplotlib.pyplot.subplots(figsize=(16, 3), ncols=3)\n",
    "\n",
    "    u_vals = collect(range(-3, 3, length=101))\n",
    "    ϵ_vals = collect(range(0, 1, length=101))\n",
    "    ϵ_max = 1.0\n",
    "\n",
    "    axs[1].plot(u_vals, abs.(u_vals), \"--\", color=\"black\")\n",
    "    axs[1].plot(u_vals, TanhSqParametrization(ϵ_max).epsilon_of_u.(u_vals), label=\"TanhSq\")\n",
    "    axs[1].plot(u_vals, LogisticSqParametrization(ϵ_max).epsilon_of_u.(u_vals), label=\"LogisticSq(k=1)\")\n",
    "    axs[1].plot(u_vals, LogisticSqParametrization(ϵ_max, k=4.0).epsilon_of_u.(u_vals), label=\"LogisticSq(k=4)\")\n",
    "    axs[1].plot(u_vals, SquareParametrization().epsilon_of_u.(u_vals), label=\"Square\")\n",
    "    axs[1].set_ylim(0, 1.2)\n",
    "    axs[1].set_xlabel(\"u\")\n",
    "    axs[1].set_ylabel(\"ϵ\")\n",
    "\n",
    "    axs[2].plot(ϵ_vals, ϵ_vals, \"--\", color=\"black\")\n",
    "    axs[2].plot(ϵ_vals, TanhSqParametrization(ϵ_max).u_of_epsilon.(ϵ_vals), label=\"TanhSq\")\n",
    "    axs[2].plot(ϵ_vals, LogisticSqParametrization(ϵ_max).u_of_epsilon.(ϵ_vals), label=\"LogisticSq(k=1)\")\n",
    "    axs[2].plot(ϵ_vals, LogisticSqParametrization(ϵ_max, k=4.0).u_of_epsilon.(ϵ_vals), label=\"LogisticSq(k=4)\")\n",
    "    axs[2].plot(ϵ_vals, SquareParametrization().u_of_epsilon.(ϵ_vals), label=\"Square\")\n",
    "    axs[2].set_ylim(0, 3)\n",
    "    axs[2].set_ylabel(\"u\")\n",
    "    axs[2].set_xlabel(\"ϵ\")\n",
    "    axs[2].legend()\n",
    "\n",
    "    axs[3].plot(u_vals, sign.(u_vals), \"--\", color=\"black\")\n",
    "    axs[3].plot(u_vals, TanhSqParametrization(ϵ_max).de_du_derivative.(u_vals), label=\"TanhSq\")\n",
    "    axs[3].plot(u_vals, LogisticSqParametrization(ϵ_max).de_du_derivative.(u_vals), label=\"LogisticSq(k=1)\")\n",
    "    axs[3].plot(u_vals, LogisticSqParametrization(ϵ_max, k=4.0).de_du_derivative.(u_vals), label=\"LogisticSq(k=4)\")\n",
    "    axs[3].plot(u_vals, SquareParametrization().de_du_derivative.(u_vals), label=\"Square\")\n",
    "    axs[3].set_ylim(-2, 2)\n",
    "    axs[3].set_xlabel(\"u\")\n",
    "    axs[3].set_ylabel(\"∂ϵ/∂u\")\n",
    "\n",
    "    return fig\n",
    "end\n",
    "\n",
    "plot_positive_parametrization_comparison()"
   ],
   "metadata": {},
   "execution_count": null
  },
  {
   "cell_type": "markdown",
   "source": [
    "## Two-level Hamiltonian"
   ],
   "metadata": {}
  },
  {
   "cell_type": "markdown",
   "source": [
    "We consider the Hamiltonian $\\op{H}_{0} = - \\frac{\\omega}{2} \\op{\\sigma}_{z}$, representing\n",
    "a simple qubit with energy level splitting $\\omega$ in the basis\n",
    "$\\{\\ket{0},\\ket{1}\\}$. The control field $\\epsilon(t)$ is assumed to couple via\n",
    "the Hamiltonian $\\op{H}_{1}(t) = \\epsilon(t) \\op{\\sigma}_{x}$ to the qubit,\n",
    "i.e., the control field effectively drives transitions between both qubit\n",
    "states.\n",
    "\n",
    "We we will use"
   ],
   "metadata": {}
  },
  {
   "outputs": [],
   "cell_type": "code",
   "source": [
    "ϵ(t) = 0.2 * flattop(t, T=5, t_rise=0.3, func=:blackman);"
   ],
   "metadata": {},
   "execution_count": null
  },
  {
   "outputs": [],
   "cell_type": "code",
   "source": [
    "\"\"\"Two-level-system Hamiltonian.\"\"\"\n",
    "function hamiltonian(Ω=1.0, ϵ=ϵ)\n",
    "    σ̂_z = ComplexF64[1 0; 0 -1];\n",
    "    σ̂_x = ComplexF64[0 1; 1  0];\n",
    "    Ĥ₀ = -0.5 * Ω * σ̂_z\n",
    "    Ĥ₁ = σ̂_x\n",
    "    return (Ĥ₀, (Ĥ₁, ϵ))\n",
    "end\n",
    ";"
   ],
   "metadata": {},
   "execution_count": null
  },
  {
   "outputs": [],
   "cell_type": "code",
   "source": [
    "H = hamiltonian();"
   ],
   "metadata": {},
   "execution_count": null
  },
  {
   "cell_type": "markdown",
   "source": [
    "The control field here switches on from zero at $t=0$ to it's maximum amplitude\n",
    "0.2 within the time period 0.3 (the switch-on shape is half a [Blackman pulse](https://en.wikipedia.org/wiki/Window_function#Blackman_window)).\n",
    "It switches off again in the time period 0.3 before the\n",
    "final time $T=5$). We use a time grid with 500 time steps between 0 and $T$:"
   ],
   "metadata": {}
  },
  {
   "outputs": [],
   "cell_type": "code",
   "source": [
    "tlist = collect(range(0, 5, length=500));"
   ],
   "metadata": {},
   "execution_count": null
  },
  {
   "outputs": [],
   "cell_type": "code",
   "source": [
    "function plot_control(pulse::Vector, tlist)\n",
    "    fig, ax = matplotlib.pyplot.subplots(figsize=(6, 3))\n",
    "    ax.plot(tlist, pulse)\n",
    "    ax.set_xlabel(\"time\")\n",
    "    ax.set_ylabel(\"amplitude\")\n",
    "    return fig\n",
    "end\n",
    "\n",
    "plot_control(ϵ::T, tlist) where T<:Function =\n",
    "    plot_control([ϵ(t) for t in tlist], tlist)\n",
    "\n",
    "plot_control(H[2][2], tlist)"
   ],
   "metadata": {},
   "execution_count": null
  },
  {
   "cell_type": "markdown",
   "source": [
    "## Optimization target"
   ],
   "metadata": {}
  },
  {
   "cell_type": "markdown",
   "source": [
    "The `krotov` package requires the goal of the optimization to be described by a\n",
    "list of `Objective` instances. In this example, there is only a single\n",
    "objective: the state-to-state transfer from initial state $\\ket{\\Psi_{\\init}} =\n",
    "\\ket{0}$ to the target state $\\ket{\\Psi_{\\tgt}} = \\ket{1}$, under the dynamics\n",
    "of the Hamiltonian $\\op{H}(t)$:"
   ],
   "metadata": {}
  },
  {
   "outputs": [],
   "cell_type": "code",
   "source": [
    "function ket(label)\n",
    "    result = Dict(\n",
    "        \"0\" => Vector{ComplexF64}([1, 0]),\n",
    "        \"1\" => Vector{ComplexF64}([0, 1]),\n",
    "    )\n",
    "    return result[string(label)]\n",
    "end\n",
    ";"
   ],
   "metadata": {},
   "execution_count": null
  },
  {
   "outputs": [],
   "cell_type": "code",
   "source": [
    "objectives = [\n",
    "    Objective(initial_state=ket(0), generator=H, target_state=ket(1))\n",
    "]"
   ],
   "metadata": {},
   "execution_count": null
  },
  {
   "cell_type": "markdown",
   "source": [
    "## Square-parametrization for positive pulses"
   ],
   "metadata": {}
  },
  {
   "outputs": [],
   "cell_type": "code",
   "source": [
    "problem = ControlProblem(\n",
    "    objectives=objectives,\n",
    "    pulse_options=IdDict(\n",
    "        ϵ  => Dict(\n",
    "            :lambda_a => 5,\n",
    "            :update_shape => t -> flattop(t, T=5, t_rise=0.3, func=:blackman),\n",
    "            :parametrization => SquareParametrization(),\n",
    "        )\n",
    "    ),\n",
    "    tlist=tlist,\n",
    "    iter_stop=50,\n",
    "    chi=QuantumControl.Functionals.chi_ss!,\n",
    "    J_T=QuantumControl.Functionals.J_T_ss,\n",
    "    check_convergence= res -> begin (\n",
    "            (res.J_T < 1e-3)\n",
    "            && (res.converged = true)\n",
    "            && (res.message=\"J_T < 10⁻³\")\n",
    "        ) end\n",
    ");"
   ],
   "metadata": {},
   "execution_count": null
  },
  {
   "outputs": [],
   "cell_type": "code",
   "source": [
    "opt_result_positive = optimize(problem, method=:krotov);"
   ],
   "metadata": {},
   "execution_count": null
  },
  {
   "outputs": [],
   "cell_type": "code",
   "source": [
    "opt_result_positive"
   ],
   "metadata": {},
   "execution_count": null
  },
  {
   "cell_type": "markdown",
   "source": [
    "We can plot the optimized field:"
   ],
   "metadata": {}
  },
  {
   "outputs": [],
   "cell_type": "code",
   "source": [
    "plot_control(opt_result_positive.optimized_controls[1], tlist)"
   ],
   "metadata": {},
   "execution_count": null
  },
  {
   "cell_type": "markdown",
   "source": [
    "## Tanh-Square-Parametrization for positive amplitude-constrained pulses"
   ],
   "metadata": {}
  },
  {
   "outputs": [],
   "cell_type": "code",
   "source": [
    "problem_tanhsq = ControlProblem(\n",
    "    objectives=objectives,\n",
    "    pulse_options=IdDict(\n",
    "        ϵ  => Dict(\n",
    "            :lambda_a => 10,\n",
    "            :update_shape => t -> flattop(t, T=5, t_rise=0.3, func=:blackman),\n",
    "            :parametrization => TanhSqParametrization(3),\n",
    "        )\n",
    "    ),\n",
    "    tlist=tlist,\n",
    "    iter_stop=50,\n",
    "    chi=QuantumControl.Functionals.chi_ss!,\n",
    "    J_T=QuantumControl.Functionals.J_T_ss,\n",
    "    check_convergence= res -> begin (\n",
    "            (res.J_T < 1e-3)\n",
    "            && (res.converged = true)\n",
    "            && (res.message=\"J_T < 10⁻³\")\n",
    "        ) end\n",
    ");"
   ],
   "metadata": {},
   "execution_count": null
  },
  {
   "outputs": [],
   "cell_type": "code",
   "source": [
    "opt_result_tanhsq = optimize(problem_tanhsq, method=:krotov);"
   ],
   "metadata": {},
   "execution_count": null
  },
  {
   "outputs": [],
   "cell_type": "code",
   "source": [
    "opt_result_tanhsq"
   ],
   "metadata": {},
   "execution_count": null
  },
  {
   "cell_type": "markdown",
   "source": [
    "We can plot the optimized field:"
   ],
   "metadata": {}
  },
  {
   "outputs": [],
   "cell_type": "code",
   "source": [
    "plot_control(opt_result_tanhsq.optimized_controls[1], tlist)"
   ],
   "metadata": {},
   "execution_count": null
  },
  {
   "cell_type": "markdown",
   "source": [
    "## Logistic-Square-Parametrization for positive amplitude-constrained pulses"
   ],
   "metadata": {}
  },
  {
   "outputs": [],
   "cell_type": "code",
   "source": [
    "problem_logisticsq = ControlProblem(\n",
    "    objectives=objectives,\n",
    "    pulse_options=IdDict(\n",
    "        ϵ  => Dict(\n",
    "            :lambda_a => 1,\n",
    "            :update_shape => t -> flattop(t, T=5, t_rise=0.3, func=:blackman),\n",
    "            :parametrization => LogisticSqParametrization(3, k=1.0),\n",
    "        )\n",
    "    ),\n",
    "    tlist=tlist,\n",
    "    iter_stop=50,\n",
    "    chi=QuantumControl.Functionals.chi_ss!,\n",
    "    J_T=QuantumControl.Functionals.J_T_ss,\n",
    "    check_convergence= res -> begin (\n",
    "            (res.J_T < 1e-3)\n",
    "            && (res.converged = true)\n",
    "            && (res.message=\"J_T < 10⁻³\")\n",
    "        ) end\n",
    ");"
   ],
   "metadata": {},
   "execution_count": null
  },
  {
   "outputs": [],
   "cell_type": "code",
   "source": [
    "opt_result_logisticsq = optimize(problem_logisticsq, method=:krotov);"
   ],
   "metadata": {},
   "execution_count": null
  },
  {
   "cell_type": "markdown",
   "source": [
    "We can plot the optimized field:"
   ],
   "metadata": {}
  },
  {
   "outputs": [],
   "cell_type": "code",
   "source": [
    "plot_control(opt_result_logisticsq.optimized_controls[1], tlist)"
   ],
   "metadata": {},
   "execution_count": null
  },
  {
   "cell_type": "markdown",
   "source": [
    "## Tanh-parametrization for amplitude-constrained pulses"
   ],
   "metadata": {}
  },
  {
   "outputs": [],
   "cell_type": "code",
   "source": [
    "problem_tanh = ControlProblem(\n",
    "    objectives=objectives,\n",
    "    pulse_options=IdDict(\n",
    "        ϵ  => Dict(\n",
    "            :lambda_a => 1,\n",
    "            :update_shape => t -> flattop(t, T=5, t_rise=0.3, func=:blackman),\n",
    "            :parametrization => TanhParametrization(-0.5, 0.5),\n",
    "        )\n",
    "    ),\n",
    "    tlist=tlist,\n",
    "    iter_stop=50,\n",
    "    chi=QuantumControl.Functionals.chi_ss!,\n",
    "    J_T=QuantumControl.Functionals.J_T_ss,\n",
    "    check_convergence= res -> begin (\n",
    "            (res.J_T < 1e-3)\n",
    "            && (res.converged = true)\n",
    "            && (res.message=\"J_T < 10⁻³\")\n",
    "        ) end\n",
    ");"
   ],
   "metadata": {},
   "execution_count": null
  },
  {
   "outputs": [],
   "cell_type": "code",
   "source": [
    "opt_result_tanh = optimize(problem_tanh, method=:krotov);"
   ],
   "metadata": {},
   "execution_count": null
  },
  {
   "outputs": [],
   "cell_type": "code",
   "source": [
    "plot_control(opt_result_tanh.optimized_controls[1], tlist)"
   ],
   "metadata": {},
   "execution_count": null
  },
  {
   "cell_type": "markdown",
   "source": [
    "---\n",
    "\n",
    "*This notebook was generated using [Literate.jl](https://github.com/fredrikekre/Literate.jl).*"
   ],
   "metadata": {}
  }
 ],
 "nbformat_minor": 3,
 "metadata": {
  "language_info": {
   "file_extension": ".jl",
   "mimetype": "application/julia",
   "name": "julia",
   "version": "1.7.1"
  },
  "kernelspec": {
   "name": "julia-1.7",
   "display_name": "Julia 1.7.1",
   "language": "julia"
  }
 },
 "nbformat": 4
}
